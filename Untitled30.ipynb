{
 "cells": [
  {
   "cell_type": "markdown",
   "id": "992f4ec3",
   "metadata": {},
   "source": [
    "# ASSIGNMENT 3\n",
    "1.\n",
    "Python Functions stop us from writing the same logic various times.It also helps to divide the large programs into small groups so that we can read the code, and debug the program faster and better."
   ]
  },
  {
   "cell_type": "code",
   "execution_count": 1,
   "id": "16845e95",
   "metadata": {},
   "outputs": [
    {
     "data": {
      "text/plain": [
       "11"
      ]
     },
     "execution_count": 1,
     "metadata": {},
     "output_type": "execute_result"
    }
   ],
   "source": [
    "3.\n",
    "def fn(a,b):     #function creation\n",
    "    return a+b   #function defination\n",
    "fn(5,6)         #function calling"
   ]
  },
  {
   "cell_type": "markdown",
   "id": "21550760",
   "metadata": {},
   "source": [
    "4.\n",
    "A function is nothing but just a set of statements which is written as a block to perform a specific type of job and function calling is using this function to achive that task.\n"
   ]
  },
  {
   "cell_type": "markdown",
   "id": "42babb39",
   "metadata": {},
   "source": [
    "5.\n",
    "There's only one global Python scope per program execution."
   ]
  },
  {
   "cell_type": "markdown",
   "id": "b74f5402",
   "metadata": {},
   "source": [
    "6.\n",
    "When the execution of the function returns, the local variables are destroyed.So it is not possible for a function to set some local variable to a value, complete its execution, and then when it is called again next time, recover the local variable."
   ]
  },
  {
   "cell_type": "markdown",
   "id": "3c8ef631",
   "metadata": {},
   "source": [
    "7.\n",
    "A return is a value that a function returns to the calling script or function when it completes its task.Yes,it possible to have a return value in an expression"
   ]
  },
  {
   "cell_type": "markdown",
   "id": "d6c787ae",
   "metadata": {},
   "source": [
    "8. If a function doesn't specify a return value, it returns None"
   ]
  },
  {
   "cell_type": "markdown",
   "id": "0d917b9f",
   "metadata": {},
   "source": [
    "9.\n",
    "we can use the global keyword to declare which variables are global.\n",
    "\n",
    "def Gobal_variable():\n",
    "    global  global_variable = 'hello' \n",
    "  "
   ]
  },
  {
   "cell_type": "markdown",
   "id": "646dff2d",
   "metadata": {},
   "source": [
    "10.\n",
    "None is used to define a null value. It is not the same as an empty string, False, or a zero. It is a data type of the class NoneType object."
   ]
  },
  {
   "cell_type": "markdown",
   "id": "097145b4",
   "metadata": {},
   "source": [
    "11.\n",
    "    A global statement will force a variable in a function to refer to the global variable. The data type of None is NoneType . That import statement imports a module named areallyourpetsnamederic"
   ]
  },
  {
   "cell_type": "markdown",
   "id": "e7f05ca7",
   "metadata": {},
   "source": [
    "12.\n",
    "spam.bacon()"
   ]
  },
  {
   "cell_type": "markdown",
   "id": "0b5ae09f",
   "metadata": {},
   "source": [
    "13.\n",
    " error handling can be used find the error occurred and gracefully exit the process that caused the error."
   ]
  },
  {
   "cell_type": "markdown",
   "id": "0226b7c1",
   "metadata": {},
   "source": [
    "14.\n",
    "\n",
    "The try block allows you to test a block of code for errors. The except block enables you to handle the error with a user-defined response"
   ]
  }
 ],
 "metadata": {
  "kernelspec": {
   "display_name": "Python 3 (ipykernel)",
   "language": "python",
   "name": "python3"
  },
  "language_info": {
   "codemirror_mode": {
    "name": "ipython",
    "version": 3
   },
   "file_extension": ".py",
   "mimetype": "text/x-python",
   "name": "python",
   "nbconvert_exporter": "python",
   "pygments_lexer": "ipython3",
   "version": "3.9.7"
  }
 },
 "nbformat": 4,
 "nbformat_minor": 5
}
